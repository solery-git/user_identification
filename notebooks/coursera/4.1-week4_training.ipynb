{
 "cells": [
  {
   "cell_type": "markdown",
   "metadata": {},
   "source": [
    "<center>\n",
    "<img src=\"https://habrastorage.org/web/677/8e1/337/6778e1337c3d4b159d7e99df94227cb2.jpg\"/>\n",
    "## Специализация \"Машинное обучение и анализ данных\"\n",
    "<center>Автор материала: программист-исследователь Mail.Ru Group, старший преподаватель Факультета Компьютерных Наук ВШЭ [Юрий Кашницкий](https://yorko.github.io/)"
   ]
  },
  {
   "cell_type": "markdown",
   "metadata": {},
   "source": [
    "# <center> Capstone проект №1 <br> Идентификация пользователей по посещенным веб-страницам\n",
    "<img src='http://i.istockimg.com/file_thumbview_approve/21546327/5/stock-illustration-21546327-identification-de-l-utilisateur.jpg'>\n",
    "\n",
    "# <center>Неделя 4.  Сравнение алгоритмов классификации\n",
    "\n",
    "Теперь мы наконец подойдем к обучению моделей классификации, сравним на кросс-валидации несколько алгоритмов, разберемся, какие параметры длины сессии (*session_length* и *window_size*) лучше использовать. Также для выбранного алгоритма построим кривые валидации (как качество классификации зависит от одного из гиперпараметров алгоритма) и кривые обучения (как качество классификации зависит от объема выборки).\n",
    "\n",
    "**План 4 недели:**\n",
    "- Часть 1. Сравнение нескольких алгоритмов на сессиях из 10 сайтов\n",
    "- Часть 2. Выбор параметров – длины сессии и ширины окна\n",
    "- Часть 3. Идентификация  конкретного пользователя и кривые обучения\n",
    " \n",
    "\n",
    "\n",
    "**В этой части проекта Вам могут быть полезны видеозаписи следующих лекций курса \"Обучение на размеченных данных\":**\n",
    "   - [Линейная классификация](https://www.coursera.org/learn/supervised-learning/lecture/jqLcO/linieinaia-klassifikatsiia)\n",
    "   - [Сравнение алгоритмов и выбор гиперпараметров](https://www.coursera.org/learn/supervised-learning/lecture/aF79U/sravnieniie-alghoritmov-i-vybor-ghipierparamietrov)\n",
    "   - [Кросс-валидация. Sklearn.cross_validation](https://www.coursera.org/learn/supervised-learning/lecture/XbHEk/kross-validatsiia-sklearn-cross-validation)\n",
    "   - [Линейные модели. Sklearn.linear_model. Классификация](https://www.coursera.org/learn/supervised-learning/lecture/EBg9t/linieinyie-modieli-sklearn-linear-model-klassifikatsiia)\n",
    "   - и многие другие\n"
   ]
  },
  {
   "cell_type": "markdown",
   "metadata": {},
   "source": [
    "### Задание\n",
    "1. Заполните код в этой тетрадке \n",
    "2. Если вы проходите специализацию Яндеса и МФТИ, пошлите файл с ответами в соответствующем Programming Assignment. <br> Если вы проходите курс ODS, выберите ответы в [веб-форме](https://docs.google.com/forms/d/12VB7kmzDoSVzSpQNaJp0tR-2t8K8PynQopP3dypf7i4).  "
   ]
  },
  {
   "cell_type": "code",
   "execution_count": 1,
   "metadata": {},
   "outputs": [],
   "source": [
    "# pip install watermark\n",
    "%load_ext watermark"
   ]
  },
  {
   "cell_type": "code",
   "execution_count": 2,
   "metadata": {},
   "outputs": [
    {
     "name": "stdout",
     "output_type": "stream",
     "text": [
      "CPython 2.7.16\n",
      "IPython 5.8.0\n",
      "\n",
      "numpy 1.16.5\n",
      "scipy 1.2.1\n",
      "pandas 0.24.2\n",
      "matplotlib 2.2.3\n",
      "statsmodels 0.10.1\n",
      "sklearn 0.20.3\n",
      "\n",
      "compiler   : MSC v.1500 64 bit (AMD64)\n",
      "system     : Windows\n",
      "release    : 7\n",
      "machine    : AMD64\n",
      "processor  : Intel64 Family 6 Model 60 Stepping 3, GenuineIntel\n",
      "CPU cores  : 8\n",
      "interpreter: 64bit\n",
      "Git hash   :\n"
     ]
    }
   ],
   "source": [
    "%watermark -v -m -p numpy,scipy,pandas,matplotlib,statsmodels,sklearn -g"
   ]
  },
  {
   "cell_type": "code",
   "execution_count": 3,
   "metadata": {},
   "outputs": [],
   "source": [
    "from __future__ import division, print_function\n",
    "# отключим всякие предупреждения Anaconda\n",
    "import warnings\n",
    "warnings.filterwarnings('ignore')\n",
    "from time import time\n",
    "import itertools\n",
    "import os\n",
    "import numpy as np\n",
    "import pandas as pd\n",
    "import seaborn as sns\n",
    "%matplotlib inline\n",
    "from matplotlib import pyplot as plt\n",
    "import pickle\n",
    "from scipy.sparse import csr_matrix\n",
    "from sklearn.model_selection import train_test_split, cross_val_score, StratifiedKFold, GridSearchCV\n",
    "from sklearn.metrics import accuracy_score, f1_score"
   ]
  },
  {
   "cell_type": "code",
   "execution_count": 4,
   "metadata": {},
   "outputs": [],
   "source": [
    "# Поменяйте на свой путь к данным\n",
    "PATH_TO_RAW_DATA = '../data/raw'\n",
    "PATH_TO_INTERIM_DATA = '../data/interim'"
   ]
  },
  {
   "cell_type": "markdown",
   "metadata": {},
   "source": [
    "## Часть 1. Сравнение нескольких алгоритмов на сессиях из 10 сайтов"
   ]
  },
  {
   "cell_type": "markdown",
   "metadata": {},
   "source": [
    "**Загрузим сериализованные ранее объекты *X_sparse_10users* и *y_10users*, соответствующие обучающей выборке для 10 пользователей.**"
   ]
  },
  {
   "cell_type": "code",
   "execution_count": 5,
   "metadata": {},
   "outputs": [],
   "source": [
    "with open(os.path.join(PATH_TO_INTERIM_DATA, \n",
    "                       'X_sparse_10users.pkl'), 'rb') as X_sparse_10users_pkl:\n",
    "    X_sparse_10users = pickle.load(X_sparse_10users_pkl)\n",
    "with open(os.path.join(PATH_TO_INTERIM_DATA, \n",
    "                       'y_10users.pkl'), 'rb') as y_10users_pkl:\n",
    "    y_10users = pickle.load(y_10users_pkl)"
   ]
  },
  {
   "cell_type": "markdown",
   "metadata": {},
   "source": [
    "**Здесь более 14 тысяч сессий и почти 5 тысяч уникальных посещенных сайтов.**"
   ]
  },
  {
   "cell_type": "code",
   "execution_count": 6,
   "metadata": {},
   "outputs": [
    {
     "data": {
      "text/plain": [
       "(14061, 4913)"
      ]
     },
     "execution_count": 6,
     "metadata": {},
     "output_type": "execute_result"
    }
   ],
   "source": [
    "X_sparse_10users.shape"
   ]
  },
  {
   "cell_type": "markdown",
   "metadata": {},
   "source": [
    "**Разобьем выборку на 2 части. На одной будем проводить кросс-валидацию, на второй – оценивать модель, обученную после кросс-валидации.**"
   ]
  },
  {
   "cell_type": "code",
   "execution_count": 7,
   "metadata": {},
   "outputs": [],
   "source": [
    "X_train, X_valid, y_train, y_valid = train_test_split(X_sparse_10users, y_10users, \n",
    "                                                      test_size=0.3, random_state=17, stratify=y_10users)"
   ]
  },
  {
   "cell_type": "markdown",
   "metadata": {},
   "source": [
    "**Зададим заранее тип кросс-валидации: 3-кратная, с перемешиванием, параметр random_state=17 – для воспроизводимости.**"
   ]
  },
  {
   "cell_type": "code",
   "execution_count": 8,
   "metadata": {},
   "outputs": [],
   "source": [
    "skf = StratifiedKFold(n_splits=3, shuffle=True, random_state=17)"
   ]
  },
  {
   "cell_type": "markdown",
   "metadata": {},
   "source": [
    "**Вспомогательная функция для отрисовки кривых валидации после запуска GridSearchCV (или RandomizedCV).**"
   ]
  },
  {
   "cell_type": "code",
   "execution_count": 9,
   "metadata": {},
   "outputs": [],
   "source": [
    "def plot_validation_curves(param_values, grid_cv_results_):\n",
    "    train_mu, train_std = grid_cv_results_['mean_train_score'], grid_cv_results_['std_train_score']\n",
    "    valid_mu, valid_std = grid_cv_results_['mean_test_score'], grid_cv_results_['std_test_score']\n",
    "    train_line = plt.plot(param_values, train_mu, '-', label='train', color='green')\n",
    "    valid_line = plt.plot(param_values, valid_mu, '-', label='test', color='red')\n",
    "    plt.fill_between(param_values, train_mu - train_std, train_mu + train_std, edgecolor='none',\n",
    "                     facecolor=train_line[0].get_color(), alpha=0.2)\n",
    "    plt.fill_between(param_values, valid_mu - valid_std, valid_mu + valid_std, edgecolor='none',\n",
    "                     facecolor=valid_line[0].get_color(), alpha=0.2)\n",
    "    plt.legend()"
   ]
  },
  {
   "cell_type": "markdown",
   "metadata": {},
   "source": [
    "**1. Обучите `KNeighborsClassifier` со 100 ближайшими соседями (остальные параметры оставьте по умолчанию, только `n_jobs`=-1 для распараллеливания) и посмотрите на долю правильных ответов на 3-кратной кросс-валидации (ради воспроизводимости используйте для этого объект `StratifiedKFold` `skf`) по выборке `(X_train, y_train)` и отдельно на выборке `(X_valid, y_valid)`.**"
   ]
  },
  {
   "cell_type": "code",
   "execution_count": 10,
   "metadata": {},
   "outputs": [],
   "source": [
    "from sklearn.neighbors import KNeighborsClassifier"
   ]
  },
  {
   "cell_type": "code",
   "execution_count": 11,
   "metadata": {},
   "outputs": [
    {
     "name": "stdout",
     "output_type": "stream",
     "text": [
      "Score on train: 0.564718887006\n",
      "Score on valid: 0.584024650391\n"
     ]
    }
   ],
   "source": [
    "knn = KNeighborsClassifier(n_neighbors=100, n_jobs=-1)\n",
    "knn_train_score = np.mean(cross_val_score(knn, X_train, y_train, cv=skf))\n",
    "print('Score on train: {}'.format(knn_train_score))\n",
    "knn.fit(X_train, y_train)\n",
    "knn_valid_score = knn.score(X_valid, y_valid)\n",
    "print('Score on valid: {}'.format(knn_valid_score))"
   ]
  },
  {
   "cell_type": "markdown",
   "metadata": {},
   "source": [
    "**<font color='red'>Вопрос 1. </font> Посчитайте доли правильных ответов для KNeighborsClassifier на кросс-валидации и отложенной выборке. Округлите каждое до 3 знаков после запятой и введите через пробел.**"
   ]
  },
  {
   "cell_type": "code",
   "execution_count": 12,
   "metadata": {},
   "outputs": [],
   "source": [
    "def write_answer_to_file(answer, file_address):\n",
    "    if isinstance(answer, list):\n",
    "        answer_str = ' '.join(map(str, answer))\n",
    "    else:\n",
    "        answer_str = str(answer)\n",
    "    with open(file_address, 'w') as out_f:\n",
    "        out_f.write(answer_str)\n",
    "\n",
    "def round_3(x):\n",
    "    return round(x, 3)"
   ]
  },
  {
   "cell_type": "code",
   "execution_count": 13,
   "metadata": {},
   "outputs": [],
   "source": [
    "write_answer_to_file(map(round_3, [knn_train_score, knn_valid_score]), 'answer4_1.txt')"
   ]
  },
  {
   "cell_type": "markdown",
   "metadata": {},
   "source": [
    "**2. Обучите случайный лес (`RandomForestClassifier`) из 100 деревьев (для воспроизводимости `random_state`=17). Посмотрите на OOB-оценку (для этого надо сразу установить `oob_score`=True) и на долю правильных ответов на выборке `(X_valid, y_valid)`. Для распараллеливания задайте `n_jobs`=-1.**"
   ]
  },
  {
   "cell_type": "code",
   "execution_count": 14,
   "metadata": {},
   "outputs": [],
   "source": [
    "from sklearn.ensemble import RandomForestClassifier"
   ]
  },
  {
   "cell_type": "code",
   "execution_count": 15,
   "metadata": {},
   "outputs": [
    {
     "name": "stdout",
     "output_type": "stream",
     "text": [
      "OOB score: 0.72119487909\n",
      "Score on valid: 0.736667456743\n"
     ]
    }
   ],
   "source": [
    "forest = RandomForestClassifier(n_estimators=100, oob_score=True, random_state=17, n_jobs=-1)\n",
    "forest.fit(X_train, y_train)\n",
    "forest_oob_score = forest.oob_score_\n",
    "print('OOB score: {}'.format(forest_oob_score))\n",
    "forest_valid_score = forest.score(X_valid, y_valid)\n",
    "print('Score on valid: {}'.format(forest_valid_score))"
   ]
  },
  {
   "cell_type": "markdown",
   "metadata": {},
   "source": [
    "**<font color='red'>Вопрос 2. </font> Посчитайте доли правильных ответов для `RandomForestClassifier` при Out-of-Bag оценке и на отложенной выборке. Округлите каждое до 3 знаков после запятой и введите через пробел.**"
   ]
  },
  {
   "cell_type": "code",
   "execution_count": 16,
   "metadata": {},
   "outputs": [],
   "source": [
    "write_answer_to_file(map(round_3, [forest_oob_score, forest_valid_score]),\n",
    "                     'answer4_2.txt')"
   ]
  },
  {
   "cell_type": "code",
   "execution_count": 17,
   "metadata": {},
   "outputs": [
    {
     "name": "stdout",
     "output_type": "stream",
     "text": [
      "0.721 0.737\n"
     ]
    }
   ],
   "source": [
    "!type answer4_2.txt"
   ]
  },
  {
   "cell_type": "markdown",
   "metadata": {},
   "source": [
    "**3. Обучите логистическую регрессию (`LogisticRegression`) с параметром `C` по умолчанию и `random_state`=17 (для воспроизводимости). Посмотрите на долю правильных ответов на кросс-валидации (используйте объект `skf`, созданный ранее) и на выборке `(X_valid, y_valid)`. Для распараллеливания задайте `n_jobs=-1`.**"
   ]
  },
  {
   "cell_type": "code",
   "execution_count": 18,
   "metadata": {},
   "outputs": [],
   "source": [
    "from sklearn.linear_model import LogisticRegression, LogisticRegressionCV"
   ]
  },
  {
   "cell_type": "code",
   "execution_count": 19,
   "metadata": {},
   "outputs": [
    {
     "name": "stdout",
     "output_type": "stream",
     "text": [
      "Score on train: 0.761026754367\n",
      "Score on valid: 0.781701825077\n"
     ]
    }
   ],
   "source": [
    "logit = LogisticRegression(random_state=17, n_jobs=-1)\n",
    "logit_train_score = np.mean(cross_val_score(logit, X_train, y_train, cv=skf))\n",
    "print('Score on train: {}'.format(logit_train_score))\n",
    "logit.fit(X_train, y_train)\n",
    "logit_valid_score = logit.score(X_valid, y_valid)\n",
    "print('Score on valid: {}'.format(logit_valid_score))"
   ]
  },
  {
   "cell_type": "markdown",
   "metadata": {},
   "source": [
    "**Почитайте документацию к [LogisticRegressionCV](http://scikit-learn.org/stable/modules/generated/sklearn.linear_model.LogisticRegressionCV.html). Логистическая регрессия хорошо изучена, и для нее существуют алгоритмы быстрого подбора параметра регуляризации `C` (быстрее, чем с `GridSearchCV`).**\n",
    "\n",
    "**С помощью `LogisticRegressionCV` подберите параметр `C` для `LogisticRegression` сначала в широком диапазоне: 10 значений от 1e-4 до 1e2, используйте `logspace` из `NumPy`. Укажите у `LogisticRegressionCV` параметры `multi_class`='multinomial' и `random_state`=17. Для кросс-валидации используйте объект `skf`, созданный ранее. Для распараллеливания задайте `n_jobs=-1`.**\n",
    "\n",
    "**Нарисуйте кривые валидации по параметру `C`.**"
   ]
  },
  {
   "cell_type": "code",
   "execution_count": 20,
   "metadata": {},
   "outputs": [
    {
     "name": "stdout",
     "output_type": "stream",
     "text": [
      "Wall time: 8.26 s\n"
     ]
    }
   ],
   "source": [
    "%%time\n",
    "logit_c_values1 = np.logspace(-4, 2, 10)\n",
    "\n",
    "logit_grid_searcher1 = LogisticRegressionCV(Cs=logit_c_values1, cv=skf, multi_class='multinomial', random_state=17, n_jobs=-1)\n",
    "logit_grid_searcher1.fit(X_train, y_train)\n",
    "logit_cv_scores1 = logit_grid_searcher1.scores_.values()[0]"
   ]
  },
  {
   "cell_type": "markdown",
   "metadata": {},
   "source": [
    "Средние значения доли правильных ответов на кросс-валидации по каждому из 10 параметров `C`."
   ]
  },
  {
   "cell_type": "code",
   "execution_count": 21,
   "metadata": {},
   "outputs": [],
   "source": [
    "logit_mean_cv_scores1 = np.apply_along_axis(np.mean, 0, logit_cv_scores1)"
   ]
  },
  {
   "cell_type": "markdown",
   "metadata": {},
   "source": [
    "Выведите лучшее значение доли правильных ответов на кросс-валидации и соответствующее значение `C`."
   ]
  },
  {
   "cell_type": "code",
   "execution_count": 22,
   "metadata": {},
   "outputs": [
    {
     "name": "stdout",
     "output_type": "stream",
     "text": [
      "C: 1.0, score: 0.759097498893\n"
     ]
    }
   ],
   "source": [
    "print('C: {}, score: {}'.format( *max(zip(logit_c_values1, logit_mean_cv_scores1), key=lambda x: x[1])) )"
   ]
  },
  {
   "cell_type": "markdown",
   "metadata": {},
   "source": [
    "Нарисуйте график зависимости доли правильных ответов на кросс-валидации от `C`."
   ]
  },
  {
   "cell_type": "code",
   "execution_count": 23,
   "metadata": {},
   "outputs": [
    {
     "data": {
      "image/png": "[encoded data removed]",
      "text/plain": [
       "<Figure size 432x288 with 1 Axes>"
      ]
     },
     "metadata": {
      "needs_background": "light"
     },
     "output_type": "display_data"
    }
   ],
   "source": [
    "plt.plot(logit_c_values1, logit_mean_cv_scores1)\n",
    "plt.xscale('log')"
   ]
  },
  {
   "cell_type": "markdown",
   "metadata": {},
   "source": [
    "**Теперь то же самое, только значения параметра `C` перебирайте в диапазоне `np.linspace`(0.1, 7, 20). Опять нарисуйте кривые валидации, определите максимальное значение доли правильных ответов на кросс-валидации.**"
   ]
  },
  {
   "cell_type": "code",
   "execution_count": 24,
   "metadata": {},
   "outputs": [
    {
     "name": "stdout",
     "output_type": "stream",
     "text": [
      "Wall time: 22.9 s\n"
     ]
    }
   ],
   "source": [
    "%%time\n",
    "logit_c_values2 = np.linspace(0.1, 7, 20)\n",
    "\n",
    "logit_grid_searcher2 = LogisticRegressionCV(Cs=logit_c_values2, cv=skf, multi_class='multinomial', random_state=17, n_jobs=-1)\n",
    "logit_grid_searcher2.fit(X_train, y_train)\n",
    "logit_cv_scores2 = logit_grid_searcher2.scores_.values()[0]"
   ]
  },
  {
   "cell_type": "markdown",
   "metadata": {},
   "source": [
    "Средние значения доли правильных ответов на кросс-валидации по каждому из 10 параметров `C`."
   ]
  },
  {
   "cell_type": "code",
   "execution_count": 25,
   "metadata": {},
   "outputs": [],
   "source": [
    "logit_mean_cv_scores2 = np.apply_along_axis(np.mean, 0, logit_cv_scores2)"
   ]
  },
  {
   "cell_type": "markdown",
   "metadata": {},
   "source": [
    "Выведите лучшее значение доли правильных ответов на кросс-валидации и соответствующее значение `C`."
   ]
  },
  {
   "cell_type": "markdown",
   "metadata": {},
   "source": [
    "*Здесь не вполне понятна трактовка задания. Если имеется в виду лучшее среднее значение (а иначе зачем мы считали средние значения), то ответ на задание 4.3 будет зачтен, но на задание 4.7, где это значение `C` тоже используется - нет. А для задания 4.7 нужно значение `C` с другой трактовкой, буквальной - лучшее значение среди всех `C` и всех фолдов кросс-валидации. Причем с таким `C` качество классификатора будет хуже, но зато ответ принимается. Поэтому вычислим и сохраним оба этих значения.*"
   ]
  },
  {
   "cell_type": "code",
   "execution_count": 26,
   "metadata": {},
   "outputs": [
    {
     "data": {
      "text/plain": [
       "(3.7315789473684213, 0.770966758157975)"
      ]
     },
     "execution_count": 26,
     "metadata": {},
     "output_type": "execute_result"
    }
   ],
   "source": [
    "logit_max_C, logit_max_score = max(zip(logit_c_values2, np.max(logit_cv_scores2, axis=0)), key=lambda x: x[1])\n",
    "logit_max_C, logit_max_score"
   ]
  },
  {
   "cell_type": "code",
   "execution_count": 27,
   "metadata": {},
   "outputs": [
    {
     "name": "stdout",
     "output_type": "stream",
     "text": [
      "C: 0.463157894737, score: 0.758689694386\n"
     ]
    }
   ],
   "source": [
    "logit_best_C, logit_best_score = max(zip(logit_c_values2, logit_mean_cv_scores2), key=lambda x: x[1])\n",
    "print('C: {}, score: {}'.format(logit_best_C, logit_best_score))"
   ]
  },
  {
   "cell_type": "markdown",
   "metadata": {},
   "source": [
    "Нарисуйте график зависимости доли правильных ответов на кросс-валидации от `C`."
   ]
  },
  {
   "cell_type": "code",
   "execution_count": 28,
   "metadata": {},
   "outputs": [
    {
     "data": {
      "image/png": "[encoded data removed]",
      "text/plain": [
       "<Figure size 432x288 with 1 Axes>"
      ]
     },
     "metadata": {
      "needs_background": "light"
     },
     "output_type": "display_data"
    }
   ],
   "source": [
    "plt.plot(logit_c_values2, logit_mean_cv_scores2);"
   ]
  },
  {
   "cell_type": "markdown",
   "metadata": {},
   "source": [
    "Выведите долю правильных ответов на выборке `(X_valid, y_valid)` для логистической регрессии с лучшим найденным значением `C`."
   ]
  },
  {
   "cell_type": "code",
   "execution_count": 29,
   "metadata": {},
   "outputs": [
    {
     "data": {
      "text/plain": [
       "0.7748281583313581"
      ]
     },
     "execution_count": 29,
     "metadata": {},
     "output_type": "execute_result"
    }
   ],
   "source": [
    "logit_valid_acc = accuracy_score(logit_grid_searcher2.predict(X_valid), y_valid)\n",
    "logit_valid_acc"
   ]
  },
  {
   "cell_type": "markdown",
   "metadata": {},
   "source": [
    "**<font color='red'>Вопрос 3. </font>Посчитайте доли правильных ответов для `logit_grid_searcher2` на кросс-валидации для лучшего значения параметра `C` и на отложенной выборке. Округлите каждое до 3 знаков после запятой и выведите через пробел.**"
   ]
  },
  {
   "cell_type": "code",
   "execution_count": 30,
   "metadata": {},
   "outputs": [],
   "source": [
    "write_answer_to_file(map(round_3, [logit_best_score, logit_valid_acc]),\n",
    "                     'answer4_3.txt')"
   ]
  },
  {
   "cell_type": "markdown",
   "metadata": {},
   "source": [
    "**4. Обучите линейный SVM (`LinearSVC`) с параметром `C`=1 и `random_state`=17 (для воспроизводимости). Посмотрите на долю правильных ответов на кросс-валидации (используйте объект `skf`, созданный ранее) и на выборке `(X_valid, y_valid)`.**"
   ]
  },
  {
   "cell_type": "code",
   "execution_count": 31,
   "metadata": {},
   "outputs": [],
   "source": [
    "from sklearn.svm import LinearSVC"
   ]
  },
  {
   "cell_type": "code",
   "execution_count": 32,
   "metadata": {},
   "outputs": [
    {
     "name": "stdout",
     "output_type": "stream",
     "text": [
      "Score on train: 0.752797672301\n",
      "Score on valid: 0.776961365252\n"
     ]
    }
   ],
   "source": [
    "svm = LinearSVC(C=1, random_state=17)\n",
    "svm_train_score = np.mean(cross_val_score(svm, X_train, y_train, cv=skf))\n",
    "print('Score on train: {}'.format(svm_train_score))\n",
    "svm.fit(X_train, y_train)\n",
    "svm_valid_score = svm.score(X_valid, y_valid)\n",
    "print('Score on valid: {}'.format(svm_valid_score))"
   ]
  },
  {
   "cell_type": "markdown",
   "metadata": {},
   "source": [
    "**С помощью `GridSearchCV` подберите параметр `C` для SVM сначала в широком диапазоне: 10 значений от 1e-4 до 1e4, используйте `linspace` из NumPy. Нарисуйте кривые валидации.**"
   ]
  },
  {
   "cell_type": "code",
   "execution_count": 33,
   "metadata": {},
   "outputs": [
    {
     "name": "stdout",
     "output_type": "stream",
     "text": [
      "Wall time: 37.8 s\n"
     ]
    }
   ],
   "source": [
    "%%time\n",
    "svm_params1 = {'C': np.linspace(1e-4, 1e4, 10)}\n",
    "\n",
    "svm_grid_searcher1 = GridSearchCV(svm, param_grid=svm_params1, cv=skf)\n",
    "svm_grid_searcher1.fit(X_train, y_train)"
   ]
  },
  {
   "cell_type": "markdown",
   "metadata": {},
   "source": [
    "Выведите лучшее значение доли правильных ответов на кросс-валидации и соответствующее значение `C`."
   ]
  },
  {
   "cell_type": "code",
   "execution_count": 34,
   "metadata": {},
   "outputs": [
    {
     "name": "stdout",
     "output_type": "stream",
     "text": [
      "C: 3333.3334, score: 0.68451534241\n"
     ]
    }
   ],
   "source": [
    "svm_best_C = svm_grid_searcher1.best_params_['C']\n",
    "svm_best_score = svm_grid_searcher1.best_score_\n",
    "print('C: {}, score: {}'.format(svm_best_C, svm_best_score))"
   ]
  },
  {
   "cell_type": "markdown",
   "metadata": {},
   "source": [
    "Нарисуйте график зависимости доли правильных ответов на кросс-валидации от `C`."
   ]
  },
  {
   "cell_type": "code",
   "execution_count": 35,
   "metadata": {},
   "outputs": [
    {
     "data": {
      "image/png": "[encoded data removed]",
      "text/plain": [
       "<Figure size 432x288 with 1 Axes>"
      ]
     },
     "metadata": {
      "needs_background": "light"
     },
     "output_type": "display_data"
    }
   ],
   "source": [
    "plot_validation_curves(svm_params1['C'], svm_grid_searcher1.cv_results_)"
   ]
  },
  {
   "cell_type": "markdown",
   "metadata": {},
   "source": [
    "**Но мы помним, что с параметром регуляризации по умолчанию (С=1) на кросс-валидации доля правильных ответов выше. Это тот случай (не редкий), когда можно ошибиться и перебирать параметры не в том диапазоне (причина в том, что мы взяли равномерную сетку на большом интервале и упустили действительно хороший интервал значений `C`). Здесь намного осмысленней подбирать `C` в районе 1, к тому же, так модель быстрее обучается, чем при больших `C`.**\n",
    "\n",
    "**С помощью `GridSearchCV` подберите параметр `C` для SVM в диапазоне (1e-3, 1), 30 значений, используйте `linspace` из NumPy. Нарисуйте кривые валидации.**"
   ]
  },
  {
   "cell_type": "code",
   "execution_count": 36,
   "metadata": {},
   "outputs": [
    {
     "name": "stdout",
     "output_type": "stream",
     "text": [
      "Wall time: 1min 5s\n"
     ]
    }
   ],
   "source": [
    "%%time\n",
    "svm_params2 = {'C': np.linspace(1e-3, 1, 30)}\n",
    "\n",
    "svm_grid_searcher2 = GridSearchCV(svm, param_grid=svm_params2, cv=skf)\n",
    "svm_grid_searcher2.fit(X_train, y_train)"
   ]
  },
  {
   "cell_type": "markdown",
   "metadata": {},
   "source": [
    "Выведите лучшее значение доли правильных ответов на кросс-валидации и соответствующее значение `C`."
   ]
  },
  {
   "cell_type": "code",
   "execution_count": 37,
   "metadata": {},
   "outputs": [
    {
     "name": "stdout",
     "output_type": "stream",
     "text": [
      "C: 0.104344827586, score: 0.764681975208\n"
     ]
    }
   ],
   "source": [
    "svm_best_C = svm_grid_searcher2.best_params_['C']\n",
    "svm_best_score = svm_grid_searcher2.best_score_\n",
    "print('C: {}, score: {}'.format(svm_best_C, svm_best_score))"
   ]
  },
  {
   "cell_type": "markdown",
   "metadata": {},
   "source": [
    "Нарисуйте график зависимости доли правильных ответов на кросс-валидации от С."
   ]
  },
  {
   "cell_type": "code",
   "execution_count": 38,
   "metadata": {},
   "outputs": [
    {
     "data": {
      "image/png": "[encoded data removed]",
      "text/plain": [
       "<Figure size 432x288 with 1 Axes>"
      ]
     },
     "metadata": {
      "needs_background": "light"
     },
     "output_type": "display_data"
    }
   ],
   "source": [
    "plot_validation_curves(svm_params2['C'], svm_grid_searcher2.cv_results_)"
   ]
  },
  {
   "cell_type": "markdown",
   "metadata": {},
   "source": [
    "Выведите долю правильных ответов на выборке `(X_valid, y_valid)` для `LinearSVC` с лучшим найденным значением `C`."
   ]
  },
  {
   "cell_type": "code",
   "execution_count": 39,
   "metadata": {},
   "outputs": [
    {
     "data": {
      "text/plain": [
       "0.7807537331121118"
      ]
     },
     "execution_count": 39,
     "metadata": {},
     "output_type": "execute_result"
    }
   ],
   "source": [
    "svm_valid_acc = accuracy_score(svm_grid_searcher2.best_estimator_.predict(X_valid), y_valid)\n",
    "svm_valid_acc"
   ]
  },
  {
   "cell_type": "markdown",
   "metadata": {},
   "source": [
    "**<font color='red'>Вопрос 4. </font> Посчитайте доли правильных ответов для `svm_grid_searcher2` на кросс-валидации для лучшего значения параметра `C` и на отложенной выборке. Округлите каждое до 3 знаков после запятой и выведите через пробел.**"
   ]
  },
  {
   "cell_type": "code",
   "execution_count": 40,
   "metadata": {},
   "outputs": [],
   "source": [
    "write_answer_to_file(map(round_3, [svm_best_score, svm_valid_acc]),\n",
    "                     'answer4_4.txt')"
   ]
  },
  {
   "cell_type": "markdown",
   "metadata": {},
   "source": [
    "## Часть 2. Выбор параметров – длины сессии и ширины окна"
   ]
  },
  {
   "cell_type": "markdown",
   "metadata": {},
   "source": [
    "**Возьмем `LinearSVC`, показавший лучшее качество на кросс-валидации в 1 части, и проверим его работу еще на 8 выборках для 10 пользователей (с разными сочетаниями параметров *session_length* и *window_size*). Поскольку тут уже вычислений побольше, мы не будем каждый раз заново подбирать параметр регуляризации `C`.**\n",
    "\n",
    "**Определите функцию `model_assessment`, ее документация описана ниже. Обратите внимание на все детали. Например, на то, что разбиение  выборки с `train_test_split` должно быть стратифицированным. Не теряйте нигде `random_state`.**"
   ]
  },
  {
   "cell_type": "code",
   "execution_count": 41,
   "metadata": {},
   "outputs": [],
   "source": [
    "def model_assessment(estimator, path_to_X_pickle, path_to_y_pickle, cv, random_state=17, test_size=0.3):\n",
    "    '''\n",
    "    Estimates CV-accuracy for (1 - test_size) share of (X_sparse, y) \n",
    "    loaded from path_to_X_pickle and path_to_y_pickle and holdout accuracy for (test_size) share of (X_sparse, y).\n",
    "    The split is made with stratified train_test_split with params random_state and test_size.\n",
    "    \n",
    "    :param estimator – Scikit-learn estimator (classifier or regressor)\n",
    "    :param path_to_X_pickle – path to pickled sparse X (instances and their features)\n",
    "    :param path_to_y_pickle – path to pickled y (responses)\n",
    "    :param cv – cross-validation as in cross_val_score (use StratifiedKFold here)\n",
    "    :param random_state –  for train_test_split\n",
    "    :param test_size –  for train_test_split\n",
    "    \n",
    "    :returns mean CV-accuracy for (X_train, y_train) and accuracy for (X_valid, y_valid) where (X_train, y_train)\n",
    "    and (X_valid, y_valid) are (1 - test_size) and (testsize) shares of (X_sparse, y).\n",
    "    '''\n",
    "    \n",
    "    with open(path_to_X_pickle, 'rb') as X_sparse_pkl:\n",
    "        X_sparse = pickle.load(X_sparse_pkl)\n",
    "    \n",
    "    with open(path_to_y_pickle, 'rb') as y_pkl:\n",
    "        y = pickle.load(y_pkl)\n",
    "    \n",
    "    X_train, X_valid, y_train, y_valid = train_test_split(X_sparse, y, test_size=test_size, \n",
    "                                                          random_state=random_state, stratify=y)\n",
    "    \n",
    "    cv_acc = np.mean(cross_val_score(estimator, X_train, y_train, cv=cv))\n",
    "    estimator.fit(X_train, y_train)\n",
    "    holdout_acc = estimator.score(X_valid, y_valid)\n",
    "    return cv_acc, holdout_acc"
   ]
  },
  {
   "cell_type": "markdown",
   "metadata": {},
   "source": [
    "**Убедитесь, что функция работает.**"
   ]
  },
  {
   "cell_type": "code",
   "execution_count": 42,
   "metadata": {},
   "outputs": [
    {
     "data": {
      "text/plain": [
       "(0.7646853244550981, 0.7807537331121118)"
      ]
     },
     "execution_count": 42,
     "metadata": {},
     "output_type": "execute_result"
    }
   ],
   "source": [
    "model_assessment(svm_grid_searcher2.best_estimator_, \n",
    "                 os.path.join(PATH_TO_INTERIM_DATA, 'X_sparse_10users.pkl'), \n",
    "                 os.path.join(PATH_TO_INTERIM_DATA, 'y_10users.pkl'), skf, random_state=17, test_size=0.3)"
   ]
  },
  {
   "cell_type": "markdown",
   "metadata": {},
   "source": [
    "*Функция работает, это GridSearchCV как-то странно считает среднее:*"
   ]
  },
  {
   "cell_type": "code",
   "execution_count": 43,
   "metadata": {},
   "outputs": [
    {
     "name": "stdout",
     "output_type": "stream",
     "text": [
      "[0.6628734  0.75848405 0.76254826 0.76468198 0.76336111 0.76285308\n",
      " 0.76224345 0.76173542 0.76122739 0.76092258 0.76051616 0.76061776\n",
      " 0.75980492 0.75899207 0.75838244 0.75736639 0.75746799 0.75706157\n",
      " 0.75655355 0.75655355 0.75624873 0.75604552 0.75543589 0.75502947\n",
      " 0.75391181 0.75401341 0.75350539 0.75320057 0.75279415 0.75279415]\n",
      "[0.66287595 0.75848629 0.76255115 0.76468532 0.76336496 0.76285726\n",
      " 0.76224682 0.76173845 0.7612301  0.76092624 0.76051878 0.7606205\n",
      " 0.75980798 0.7589955  0.75838602 0.75737007 0.75747216 0.75706563\n",
      " 0.75655765 0.75655765 0.75625262 0.75604927 0.75543942 0.75503292\n",
      " 0.75391534 0.75401728 0.75350915 0.75320473 0.75279792 0.75279767]\n"
     ]
    }
   ],
   "source": [
    "tmp = svm_grid_searcher2.cv_results_\n",
    "print(tmp['mean_test_score'])\n",
    "print(np.mean([tmp['split0_test_score'], tmp['split1_test_score'], tmp['split2_test_score']], axis=0))"
   ]
  },
  {
   "cell_type": "markdown",
   "metadata": {},
   "source": [
    "**Примените функцию *model_assessment* для лучшего алгоритма из предыдущей части (а именно, `svm_grid_searcher2.best_estimator_`) и 9 выборок вида с разными сочетаниями параметров *session_length* и *window_size* для 10 пользователей. Выведите в цикле параметры *session_length* и *window_size*, а также результат вывода функции *model_assessment*. \n",
    "Удобно сделать так, чтоб *model_assessment* возвращала 3-им элементом время, за которое она выполнилась. На моем ноуте этот участок кода выполнился за 20 секунд. Но со 150 пользователями каждая итерация занимает уже несколько минут.**"
   ]
  },
  {
   "cell_type": "markdown",
   "metadata": {},
   "source": [
    "Здесь для удобства стоит создать копии ранее созданных pickle-файлов X_sparse_10users.pkl, X_sparse_150users.pkl, y_10users.pkl и y_150users.pkl, добавив к их названиям s10_w10, что означает длину сессии 10 и ширину окна 10. "
   ]
  },
  {
   "cell_type": "code",
   "execution_count": 44,
   "metadata": {},
   "outputs": [],
   "source": [
    "#!cp $PATH_TO_DATA/X_sparse_10users.pkl $PATH_TO_DATA/X_sparse_10users_s10_w10.pkl \n",
    "#!cp $PATH_TO_DATA/X_sparse_150users.pkl $PATH_TO_DATA/X_sparse_150users_s10_w10.pkl \n",
    "#!cp $PATH_TO_DATA/y_10users.pkl $PATH_TO_DATA/y_10users_s10_w10.pkl \n",
    "#!cp $PATH_TO_DATA/y_150users.pkl $PATH_TO_DATA/y_150users_s10_w10.pkl "
   ]
  },
  {
   "cell_type": "code",
   "execution_count": 45,
   "metadata": {},
   "outputs": [
    {
     "name": "stdout",
     "output_type": "stream",
     "text": [
      "Session length 15, window size 10: CV accuracy = 0.823821495528, holdout accuracy = 0.840483526902\n",
      "Session length 10, window size 10: CV accuracy = 0.764685324455, holdout accuracy = 0.780753733112\n",
      "Session length 15, window size 7: CV accuracy = 0.847940376984, holdout accuracy = 0.854322216692\n",
      "Session length 10, window size 7: CV accuracy = 0.797016146373, holdout accuracy = 0.807366849179\n",
      "Session length 7, window size 7: CV accuracy = 0.752989111483, holdout accuracy = 0.761738841878\n",
      "Session length 15, window size 5: CV accuracy = 0.868001372554, holdout accuracy = 0.875296348981\n",
      "Session length 10, window size 5: CV accuracy = 0.815924720532, holdout accuracy = 0.824561403509\n",
      "Session length 7, window size 5: CV accuracy = 0.774058674563, holdout accuracy = 0.785324798483\n",
      "Session length 5, window size 5: CV accuracy = 0.72528306504, holdout accuracy = 0.736249407302\n",
      "Wall time: 18.7 s\n"
     ]
    }
   ],
   "source": [
    "%%time\n",
    "estimator = svm_grid_searcher2.best_estimator_\n",
    "\n",
    "for window_size, session_length in itertools.product([10, 7, 5], [15, 10, 7, 5]):\n",
    "    if window_size <= session_length:\n",
    "        path_to_X_pkl = os.path.join(PATH_TO_INTERIM_DATA, 'X_sparse_10users_s{}_w{}.pkl'.format(session_length, window_size))\n",
    "        path_to_y_pkl = os.path.join(PATH_TO_INTERIM_DATA, 'y_10users_s{}_w{}.pkl'.format(session_length, window_size))\n",
    "        cv_acc, holdout_acc = model_assessment(estimator, path_to_X_pkl, path_to_y_pkl, skf, random_state=17, test_size=0.3)\n",
    "        print('Session length {}, window size {}: CV accuracy = {}, holdout accuracy = {}'.format(\n",
    "            session_length, window_size, cv_acc, holdout_acc))"
   ]
  },
  {
   "cell_type": "markdown",
   "metadata": {},
   "source": [
    "**<font color='red'>Вопрос 5. </font> Посчитайте доли правильных ответов для `LinearSVC` с настроенным параметром `C` и выборки `X_sparse_10users_s15_w5`. Укажите доли правильных ответов на кросс-валидации и на отложенной выборке. Округлите каждое до 3 знаков после запятой и выведите через пробел.**"
   ]
  },
  {
   "cell_type": "code",
   "execution_count": 46,
   "metadata": {},
   "outputs": [],
   "source": [
    "write_answer_to_file(map(round_3, [0.868, 0.875]),\n",
    "                     'answer4_5.txt')"
   ]
  },
  {
   "cell_type": "markdown",
   "metadata": {},
   "source": [
    "**Прокомментируйте полученные результаты. Сравните для 150 пользователей доли правильных ответов на кросс-валидации и оставленной выборке для сочетаний параметров (*session_length, window_size*): (5,5), (7,7) и (10,10). На среднем ноуте это может занять до часа – запаситесь терпением, это Data Science :)**\n",
    "\n",
    "**Сделайте вывод о том, как качество классификации зависит от длины сессии и ширины окна.**"
   ]
  },
  {
   "cell_type": "markdown",
   "metadata": {},
   "source": [
    "*Качество классификации увеличивается с ростом длины сессии и уменьшением размера окна. Сессия большей длины передает больше информации, и пользователей различать проще. Но вот почему помогает уменьшение размера окна, не вполне понятно. По всей видимости, качество растет просто из-за того, что увеличивается количество данных для обучения.*"
   ]
  },
  {
   "cell_type": "code",
   "execution_count": 47,
   "metadata": {},
   "outputs": [
    {
     "name": "stdout",
     "output_type": "stream",
     "text": [
      "Session length 5, window size 5: CV accuracy = 0.408586595099, holdout accuracy = 0.421716065606\n",
      "Session length 7, window size 7: CV accuracy = 0.436386494094, holdout accuracy = 0.452958408557\n",
      "Session length 10, window size 10: CV accuracy = 0.461258899943, holdout accuracy = 0.483627694254\n",
      "Wall time: 9min 35s\n"
     ]
    }
   ],
   "source": [
    "%%time\n",
    "estimator = svm_grid_searcher2.best_estimator_\n",
    "\n",
    "for window_size, session_length in [(5,5), (7,7), (10,10)]:\n",
    "    path_to_X_pkl = os.path.join(PATH_TO_INTERIM_DATA, 'X_sparse_150users_s{}_w{}.pkl'.format(session_length, window_size))\n",
    "    path_to_y_pkl = os.path.join(PATH_TO_INTERIM_DATA, 'y_150users_s{}_w{}.pkl'.format(session_length, window_size))\n",
    "    cv_acc, holdout_acc = model_assessment(estimator, path_to_X_pkl, path_to_y_pkl, skf, random_state=17, test_size=0.3)\n",
    "    print('Session length {}, window size {}: CV accuracy = {}, holdout accuracy = {}'.format(\n",
    "        session_length, window_size, cv_acc, holdout_acc))"
   ]
  },
  {
   "cell_type": "markdown",
   "metadata": {},
   "source": [
    "**<font color='red'>Вопрос 6. </font> Посчитайте доли правильных ответов для `LinearSVC` с настроенным параметром `C` и выборки `X_sparse_150users`. Укажите доли правильных ответов на кросс-валидации и на отложенной выборке. Округлите каждое до 3 знаков после запятой и выведите через пробел.**"
   ]
  },
  {
   "cell_type": "code",
   "execution_count": 48,
   "metadata": {},
   "outputs": [],
   "source": [
    "write_answer_to_file(map(round_3, [0.461, 0.483]),\n",
    "                     'answer4_6.txt')"
   ]
  },
  {
   "cell_type": "markdown",
   "metadata": {},
   "source": [
    "## Часть 3. Идентификация  конкретного пользователя и кривые обучения"
   ]
  },
  {
   "cell_type": "markdown",
   "metadata": {},
   "source": [
    "**Поскольку может разочаровать, что многоклассовая доля правильных ответов на выборке из 150 пользовалей невелика, порадуемся тому, что конкретного пользователя можно идентифицировать достаточно хорошо.**"
   ]
  },
  {
   "cell_type": "markdown",
   "metadata": {},
   "source": [
    "**Загрузим сериализованные ранее объекты *X_sparse_150users* и *y_150users*, соответствующие обучающей выборке для 150 пользователей с параметрами (*session_length, window_size*) = (10,10). Так же точно разобьем их на 70% и 30%.**"
   ]
  },
  {
   "cell_type": "code",
   "execution_count": 49,
   "metadata": {},
   "outputs": [],
   "source": [
    "with open(os.path.join(PATH_TO_INTERIM_DATA, 'X_sparse_150users.pkl'), 'rb') as X_sparse_150users_pkl:\n",
    "     X_sparse_150users = pickle.load(X_sparse_150users_pkl)\n",
    "with open(os.path.join(PATH_TO_INTERIM_DATA, 'y_150users.pkl'), 'rb') as y_150users_pkl:\n",
    "    y_150users = pickle.load(y_150users_pkl)"
   ]
  },
  {
   "cell_type": "code",
   "execution_count": 50,
   "metadata": {},
   "outputs": [],
   "source": [
    "X_train_150, X_valid_150, y_train_150, y_valid_150 = train_test_split(X_sparse_150users, \n",
    "                                                                      y_150users, test_size=0.3, \n",
    "                                                     random_state=17, stratify=y_150users)"
   ]
  },
  {
   "cell_type": "markdown",
   "metadata": {},
   "source": [
    "**Обучите `LogisticRegressionCV` для одного значения параметра `C` (лучшего на кросс-валидации в 1 части, используйте точное значение, не на глаз). Теперь будем решать 150 задач \"Один-против-Всех\", поэтому укажите аргумент `multi_class`='ovr'. Как всегда, где возможно, указывайте `n_jobs=-1` и `random_state`=17.**"
   ]
  },
  {
   "cell_type": "code",
   "execution_count": 51,
   "metadata": {},
   "outputs": [
    {
     "name": "stdout",
     "output_type": "stream",
     "text": [
      "Wall time: 8min 25s\n"
     ]
    }
   ],
   "source": [
    "%%time\n",
    "#на Windows при n_jobs > 1 может выскочить ошибка joblib, и это известный баг, так что придется считать в один поток\n",
    "logit_cv_150users = LogisticRegressionCV(Cs=[logit_max_C], cv=skf, multi_class='ovr', random_state=17, n_jobs=1)\n",
    "logit_cv_150users.fit(X_train_150, y_train_150)"
   ]
  },
  {
   "cell_type": "markdown",
   "metadata": {},
   "source": [
    "**Посмотрите на средние доли правильных ответов на кросс-валидации в задаче идентификации каждого пользователя по отдельности.**"
   ]
  },
  {
   "cell_type": "code",
   "execution_count": 52,
   "metadata": {
    "scrolled": true
   },
   "outputs": [
    {
     "name": "stdout",
     "output_type": "stream",
     "text": [
      "User 515, CV score: 0.994025830272\n",
      "User 2902, CV score: 0.997049421691\n",
      "User 6, CV score: 0.996079561289\n",
      "User 13, CV score: 0.996392603416\n",
      "User 15, CV score: 0.995266482277\n",
      "User 16, CV score: 0.991950761356\n",
      "User 533, CV score: 0.993786030831\n",
      "User 28, CV score: 0.990178765976\n",
      "User 1054, CV score: 0.996569841221\n",
      "User 31, CV score: 0.994296898905\n",
      "User 33, CV score: 0.993650504011\n",
      "User 1371, CV score: 0.993410398974\n",
      "User 39, CV score: 0.985862083066\n",
      "User 46, CV score: 0.997987857445\n",
      "User 49, CV score: 0.995277328462\n",
      "User 50, CV score: 0.994463828068\n",
      "User 563, CV score: 0.996726139256\n",
      "User 564, CV score: 0.995662909076\n",
      "User 53, CV score: 0.99359829021\n",
      "User 568, CV score: 0.991617658001\n",
      "User 569, CV score: 0.98944907695\n",
      "User 570, CV score: 0.998342456524\n",
      "User 573, CV score: 0.990491230318\n",
      "User 575, CV score: 0.990522870971\n",
      "User 576, CV score: 0.99405706748\n",
      "User 65, CV score: 0.996851370058\n",
      "User 66, CV score: 0.994765980925\n",
      "User 580, CV score: 0.986612731695\n",
      "User 2118, CV score: 0.997779407107\n",
      "User 583, CV score: 0.980867728759\n",
      "User 584, CV score: 0.981138852154\n",
      "User 82, CV score: 0.996403012276\n",
      "User 85, CV score: 0.996298720769\n",
      "User 600, CV score: 0.991627802929\n",
      "User 89, CV score: 0.990522584261\n",
      "User 603, CV score: 0.995631442764\n",
      "User 92, CV score: 0.994203332008\n",
      "User 605, CV score: 0.997581056141\n",
      "User 1040, CV score: 0.996997042754\n",
      "User 100, CV score: 0.994557525747\n",
      "User 102, CV score: 0.991398608994\n",
      "User 103, CV score: 0.980544961189\n",
      "User 105, CV score: 0.996934881144\n",
      "User 106, CV score: 0.994671910364\n",
      "User 118, CV score: 0.990929076551\n",
      "User 119, CV score: 0.99661162291\n",
      "User 120, CV score: 0.994317707419\n",
      "User 126, CV score: 0.995120904012\n",
      "User 127, CV score: 0.991648266653\n",
      "User 128, CV score: 0.984840484908\n",
      "User 875, CV score: 0.99591323506\n",
      "User 647, CV score: 0.997789469181\n",
      "User 138, CV score: 0.997007720386\n",
      "User 653, CV score: 0.997320381847\n",
      "User 2191, CV score: 0.995276872725\n",
      "User 664, CV score: 0.995141495573\n",
      "User 665, CV score: 0.996976526738\n",
      "User 158, CV score: 0.996997414689\n",
      "User 160, CV score: 0.99687207057\n",
      "User 165, CV score: 0.997341265432\n",
      "User 172, CV score: 0.996684498976\n",
      "User 177, CV score: 0.996924171054\n",
      "User 692, CV score: 0.997028425263\n",
      "User 1993, CV score: 0.996820210291\n",
      "User 697, CV score: 0.995797937546\n",
      "User 705, CV score: 0.996580354191\n",
      "User 785, CV score: 0.996861784232\n",
      "User 2250, CV score: 0.997320522782\n",
      "User 203, CV score: 0.997601976549\n",
      "User 207, CV score: 0.987582774696\n",
      "User 722, CV score: 0.994745210183\n",
      "User 1797, CV score: 0.995037215167\n",
      "User 223, CV score: 0.996403036003\n",
      "User 1248, CV score: 0.997758575341\n",
      "User 740, CV score: 0.996726252099\n",
      "User 741, CV score: 0.99677815983\n",
      "User 233, CV score: 0.996371635081\n",
      "User 235, CV score: 0.996549023501\n",
      "User 236, CV score: 0.990189063416\n",
      "User 237, CV score: 0.989250607353\n",
      "User 238, CV score: 0.996111088625\n",
      "User 240, CV score: 0.995704521738\n",
      "User 241, CV score: 0.995829530747\n",
      "User 242, CV score: 0.995193267683\n",
      "User 1267, CV score: 0.997393319412\n",
      "User 756, CV score: 0.995725089098\n",
      "User 245, CV score: 0.996090138702\n",
      "User 246, CV score: 0.996955591335\n",
      "User 249, CV score: 0.995120636188\n",
      "User 252, CV score: 0.996413303454\n",
      "User 254, CV score: 0.991867676967\n",
      "User 256, CV score: 0.995944414662\n",
      "User 640, CV score: 0.997226532606\n",
      "User 258, CV score: 0.995860813985\n",
      "User 259, CV score: 0.994776728787\n",
      "User 260, CV score: 0.997456196325\n",
      "User 261, CV score: 0.989907772887\n",
      "User 1798, CV score: 0.996507708176\n",
      "User 263, CV score: 0.992618100385\n",
      "User 264, CV score: 0.996444676283\n",
      "User 780, CV score: 0.996465620892\n",
      "User 269, CV score: 0.986852743249\n",
      "User 270, CV score: 0.989365330025\n",
      "User 784, CV score: 0.996528158328\n",
      "User 273, CV score: 0.99432812596\n",
      "User 1299, CV score: 0.996913894397\n",
      "User 797, CV score: 0.995652524416\n",
      "User 287, CV score: 0.990147092865\n",
      "User 294, CV score: 0.995714849739\n",
      "User 561, CV score: 0.984287627397\n",
      "User 298, CV score: 0.991168837272\n",
      "User 812, CV score: 0.994714139058\n",
      "User 301, CV score: 0.997122288077\n",
      "User 2355, CV score: 0.995787583923\n",
      "User 308, CV score: 0.995683656092\n",
      "User 315, CV score: 0.997487158973\n",
      "User 318, CV score: 0.995818985318\n",
      "User 2174, CV score: 0.995819000312\n",
      "User 327, CV score: 0.996423886655\n",
      "User 332, CV score: 0.996663624597\n",
      "User 333, CV score: 0.996257222372\n",
      "User 339, CV score: 0.997070018565\n",
      "User 340, CV score: 0.996569841695\n",
      "User 342, CV score: 0.992086503707\n",
      "User 344, CV score: 0.996642779259\n",
      "User 859, CV score: 0.998352677471\n",
      "User 351, CV score: 0.992221998068\n",
      "User 356, CV score: 0.997716620733\n",
      "User 2408, CV score: 0.993546679817\n",
      "User 361, CV score: 0.99634024384\n",
      "User 363, CV score: 0.996403162891\n",
      "User 2625, CV score: 0.996059044799\n",
      "User 411, CV score: 0.991242160817\n",
      "User 417, CV score: 0.996736670639\n",
      "User 932, CV score: 0.990637350493\n",
      "User 425, CV score: 0.994161428744\n",
      "User 430, CV score: 0.996298429219\n",
      "User 435, CV score: 0.996893057791\n",
      "User 436, CV score: 0.99515179643\n",
      "User 440, CV score: 0.996903575127\n",
      "User 444, CV score: 0.997914826872\n",
      "User 2493, CV score: 0.99671572603\n",
      "User 844, CV score: 0.996945182475\n",
      "User 868, CV score: 0.996455291942\n",
      "User 475, CV score: 0.989084102417\n",
      "User 476, CV score: 0.996966061694\n",
      "User 677, CV score: 0.996642571986\n",
      "User 996, CV score: 0.993306239196\n",
      "User 486, CV score: 0.995381219469\n",
      "User 1014, CV score: 0.997299413512\n"
     ]
    }
   ],
   "source": [
    "cv_scores_by_user = {}\n",
    "for user_id in logit_cv_150users.scores_:\n",
    "    cv_scores_by_user[user_id] = np.mean(logit_cv_150users.scores_[user_id])\n",
    "    print('User {}, CV score: {}'.format(user_id, cv_scores_by_user[user_id]))"
   ]
  },
  {
   "cell_type": "markdown",
   "metadata": {},
   "source": [
    "**Результаты кажутся впечатляющими, но возможно, мы забываем про дисбаланс классов, и высокую долю правильных ответов можно получить константным прогнозом. Посчитайте для каждого пользователя разницу между долей правильных ответов на кросс-валидации (только что посчитанную с помощью `LogisticRegressionCV`) и долей меток в *y_train_150*, отличных от ID \n",
    " этого пользователя (именно такую долю правильных ответов можно получить, если классификатор всегда \"говорит\", что это не пользователь с номером $i$ в задаче классификации $i$-vs-All).**"
   ]
  },
  {
   "cell_type": "code",
   "execution_count": 53,
   "metadata": {},
   "outputs": [
    {
     "name": "stdout",
     "output_type": "stream",
     "text": [
      "User 6, score diff: 0.011677029828\n",
      "User 13, score diff: 0.000688162933873\n",
      "User 15, score diff: 0.00086530621164\n",
      "User 16, score diff: 0.00723544643523\n",
      "User 28, score diff: 0.00223135530195\n",
      "User 31, score diff: -0.000156407737071\n",
      "User 33, score diff: 0.00110517647496\n",
      "User 39, score diff: 0.00194957902548\n",
      "User 46, score diff: 0.000865465277063\n",
      "User 49, score diff: 0.00144958873975\n",
      "User 50, score diff: 0.000312878770545\n",
      "User 53, score diff: 0.00155341620978\n",
      "User 65, score diff: -7.29259182692e-05\n",
      "User 66, score diff: -9.3944215697e-05\n",
      "User 82, score diff: 5.21526432065e-05\n",
      "User 85, score diff: 0.00010425286566\n",
      "User 89, score diff: 0.00044824605876\n",
      "User 92, score diff: 5.23827101163e-05\n",
      "User 100, score diff: -0.000187712125249\n",
      "User 102, score diff: 0.000959356754579\n",
      "User 103, score diff: 0.00354497161527\n",
      "User 105, score diff: 0.000917657201474\n",
      "User 106, score diff: 0.00745432776321\n",
      "User 118, score diff: 0.000927721156481\n",
      "User 119, score diff: 0.000667381774441\n",
      "User 120, score diff: 0.000656785542294\n",
      "User 126, score diff: 0.00106378975226\n",
      "User 127, score diff: 0.00413875282291\n",
      "User 128, score diff: 0.00524439261578\n",
      "User 138, score diff: -0.000104245666486\n",
      "User 158, score diff: 0.000219084326789\n",
      "User 160, score diff: 0.000333540860419\n",
      "User 165, score diff: 0.00026057772516\n",
      "User 172, score diff: 0.000427474380665\n",
      "User 177, score diff: 0.000427345806191\n",
      "User 203, score diff: 0.00141793476152\n",
      "User 207, score diff: 0.00122013355221\n",
      "User 223, score diff: -6.25108992959e-05\n",
      "User 233, score diff: 0.000135462716856\n",
      "User 235, score diff: -0.000198028515342\n",
      "User 236, score diff: 0.00140756351471\n",
      "User 237, score diff: 0.00124063998675\n",
      "User 238, score diff: -0.000156362085765\n",
      "User 240, score diff: -7.29015518739e-05\n",
      "User 241, score diff: -0.000271102118386\n",
      "User 242, score diff: 0.000531438733949\n",
      "User 245, score diff: 0.000323141527331\n",
      "User 246, score diff: -0.000166800832469\n",
      "User 249, score diff: 2.09103952358e-05\n",
      "User 252, score diff: 0.000114574397148\n",
      "User 254, score diff: 0.00194973049457\n",
      "User 256, score diff: 0.000385939793702\n",
      "User 258, score diff: 0.000104242926066\n",
      "User 259, score diff: -0.000406405928858\n",
      "User 260, score diff: 0.000375508618186\n",
      "User 261, score diff: 0.000803063411013\n",
      "User 263, score diff: 0.00102154934382\n",
      "User 264, score diff: 0.000239782264176\n",
      "User 269, score diff: 0.0011052429105\n",
      "User 270, score diff: 0.00424339660579\n",
      "User 273, score diff: 0.000594221275066\n",
      "User 287, score diff: 0.00190775096176\n",
      "User 294, score diff: -0.000239817511116\n",
      "User 298, score diff: 0.00139685641451\n",
      "User 301, score diff: 0.00164722213155\n",
      "User 308, score diff: 0.000709043682393\n",
      "User 315, score diff: 0.000375192920543\n",
      "User 318, score diff: 0.000479458872078\n",
      "User 327, score diff: -0.000208478092384\n",
      "User 332, score diff: -0.000156410225774\n",
      "User 333, score diff: 0.00128260996253\n",
      "User 339, score diff: 0.00114662966073\n",
      "User 340, score diff: 6.25903314231e-05\n",
      "User 342, score diff: 0.000177169205875\n",
      "User 344, score diff: -0.0001355511026\n",
      "User 351, score diff: 0.00118845725535\n",
      "User 356, score diff: 0.000500393526725\n",
      "User 361, score diff: -0.000292120906927\n",
      "User 363, score diff: 0.00110534090686\n",
      "User 411, score diff: 0.00201233795697\n",
      "User 417, score diff: 0.000104305891594\n",
      "User 425, score diff: 5.33310392514e-08\n",
      "User 430, score diff: 0.0010527378112\n",
      "User 435, score diff: -0.000260612723144\n",
      "User 436, score diff: 0.000135479559509\n",
      "User 440, score diff: -0.000187538694411\n",
      "User 444, score diff: 0.000896695857261\n",
      "User 475, score diff: 0.00109498728123\n",
      "User 476, score diff: 0.000834150482672\n",
      "User 486, score diff: 0.000135528061342\n",
      "User 515, score diff: 4.16988195511e-05\n",
      "User 533, score diff: 0.00114686825656\n",
      "User 561, score diff: 0.00331528788088\n",
      "User 563, score diff: 0.000416984084126\n",
      "User 564, score diff: 0.000531904936803\n",
      "User 568, score diff: -0.000208267577253\n",
      "User 569, score diff: 0.00440012633838\n",
      "User 570, score diff: 0.00263801604172\n",
      "User 573, score diff: -0.000469327687502\n",
      "User 575, score diff: 0.00191861503059\n",
      "User 576, score diff: -0.000333682470218\n",
      "User 580, score diff: 0.0061304195996\n",
      "User 583, score diff: 0.0148255864006\n",
      "User 584, score diff: 0.00270005866439\n",
      "User 600, score diff: 0.00103215896044\n",
      "User 603, score diff: 0.000573421432581\n",
      "User 605, score diff: 0.0025126086936\n",
      "User 640, score diff: 0.000187549360761\n",
      "User 647, score diff: 0.00177224523822\n",
      "User 653, score diff: 7.28762953626e-05\n",
      "User 664, score diff: 0.000563075546164\n",
      "User 665, score diff: 0.000302457529671\n",
      "User 677, score diff: 0.000740035312098\n",
      "User 692, score diff: 0.000156259863527\n",
      "User 697, score diff: 0.000552246138632\n",
      "User 705, score diff: 0.000396312403455\n",
      "User 722, score diff: 0.00112599276726\n",
      "User 740, score diff: 0.000865419886179\n",
      "User 741, score diff: -1.70531950117e-07\n",
      "User 756, score diff: 0.000416840998513\n",
      "User 780, score diff: 0.000698623717021\n",
      "User 784, score diff: 0.00157439814967\n",
      "User 785, score diff: -0.000177199012828\n",
      "User 797, score diff: 0.000438111354327\n",
      "User 812, score diff: 0.005213237199\n",
      "User 844, score diff: -2.08179624853e-05\n",
      "User 859, score diff: 0.00143880760988\n",
      "User 868, score diff: -0.00032303841987\n",
      "User 875, score diff: 0.00577634016544\n",
      "User 932, score diff: 0.00253354808882\n",
      "User 996, score diff: 0.00282528249536\n",
      "User 1014, score diff: 0.00151156410708\n",
      "User 1040, score diff: 0.00182433415381\n",
      "User 1054, score diff: 0.000218981587382\n",
      "User 1248, score diff: 0.000427660866084\n",
      "User 1267, score diff: 0.000396040628024\n",
      "User 1299, score diff: 8.34334583688e-05\n",
      "User 1371, score diff: 0.00468102965014\n",
      "User 1797, score diff: 0.0032946985116\n",
      "User 1798, score diff: 0.00107434669265\n",
      "User 1993, score diff: 0.000896821386209\n",
      "User 2118, score diff: 0.00143897358891\n",
      "User 2174, score diff: 0.00046904775092\n",
      "User 2191, score diff: 0.000448225930902\n",
      "User 2250, score diff: -0.000114652845774\n",
      "User 2355, score diff: 0.00835105289978\n",
      "User 2408, score diff: 0.0011264656645\n",
      "User 2493, score diff: 0.000406570858108\n",
      "User 2625, score diff: 0.000594404968867\n",
      "User 2902, score diff: 0.00200182647409\n"
     ]
    }
   ],
   "source": [
    "class_distr = np.bincount(y_train_150.astype('int'))\n",
    "\n",
    "total = np.sum(class_distr)\n",
    "acc_diff_vs_constant = {}\n",
    "for user_id in np.unique(y_train_150):\n",
    "    acc_diff_vs_constant[user_id] = cv_scores_by_user[user_id] - (1 - class_distr[user_id] / total)\n",
    "    print('User {}, score diff: {}'.format(user_id, acc_diff_vs_constant[user_id]))"
   ]
  },
  {
   "cell_type": "code",
   "execution_count": 54,
   "metadata": {},
   "outputs": [
    {
     "data": {
      "text/plain": [
       "123"
      ]
     },
     "execution_count": 54,
     "metadata": {},
     "output_type": "execute_result"
    }
   ],
   "source": [
    "num_better_than_default = (np.array(list(acc_diff_vs_constant.values())) > 0).sum()\n",
    "num_better_than_default"
   ]
  },
  {
   "cell_type": "markdown",
   "metadata": {},
   "source": [
    "**<font color='red'>Вопрос 7. </font> Посчитайте долю пользователей, для которых логистическая регрессия на кросс-валидации дает прогноз лучше константного. Округлите до 3 знаков после запятой.**"
   ]
  },
  {
   "cell_type": "code",
   "execution_count": 55,
   "metadata": {},
   "outputs": [],
   "source": [
    "write_answer_to_file(round_3(num_better_than_default / len(logit_cv_150users.scores_)),\n",
    "                     'answer4_7.txt')"
   ]
  },
  {
   "cell_type": "markdown",
   "metadata": {},
   "source": [
    "**Дальше будем строить кривые обучения для конкретного пользователя, допустим, для 128-го. Составьте новый бинарный вектор на основе *y_150users*, его значения будут 1 или 0 в зависимости от того, равен ли ID-шник пользователя 128.**"
   ]
  },
  {
   "cell_type": "code",
   "execution_count": 74,
   "metadata": {},
   "outputs": [],
   "source": [
    "y_binary_128 = (y_150users == 128).astype(int)"
   ]
  },
  {
   "cell_type": "code",
   "execution_count": 75,
   "metadata": {},
   "outputs": [],
   "source": [
    "from sklearn.model_selection import learning_curve\n",
    "\n",
    "def plot_learning_curve(val_train, val_test, train_sizes, \n",
    "                        xlabel='Training Set Size', ylabel='score'):\n",
    "    def plot_with_err(x, data, **kwargs):\n",
    "        mu, std = data.mean(1), data.std(1)\n",
    "        lines = plt.plot(x, mu, '-', **kwargs)\n",
    "        plt.fill_between(x, mu - std, mu + std, edgecolor='none',\n",
    "                         facecolor=lines[0].get_color(), alpha=0.2)\n",
    "    plot_with_err(train_sizes, val_train, label='train')\n",
    "    plot_with_err(train_sizes, val_test, label='valid')\n",
    "    plt.xlabel(xlabel); plt.ylabel(ylabel)\n",
    "    plt.legend(loc='lower right');"
   ]
  },
  {
   "cell_type": "markdown",
   "metadata": {},
   "source": [
    "**Посчитайте доли правильных ответов на кросс-валидации в задаче классификации \"user128-vs-All\" в зависимости от размера выборки. Не помешает посмотреть встроенную документацию для *learning_curve*.**"
   ]
  },
  {
   "cell_type": "code",
   "execution_count": 95,
   "metadata": {},
   "outputs": [
    {
     "name": "stdout",
     "output_type": "stream",
     "text": [
      "Wall time: 15.1 s\n"
     ]
    }
   ],
   "source": [
    "%%time\n",
    "train_sizes = np.linspace(0.45, 1, 20)\n",
    "estimator = svm_grid_searcher2.best_estimator_\n",
    "n_train, val_train, val_test = learning_curve(estimator, X_sparse_150users, y_binary_128, train_sizes=train_sizes, cv=skf)"
   ]
  },
  {
   "cell_type": "code",
   "execution_count": 96,
   "metadata": {},
   "outputs": [
    {
     "data": {
      "image/png": "[encoded data removed]",
      "text/plain": [
       "<Figure size 432x288 with 1 Axes>"
      ]
     },
     "metadata": {
      "needs_background": "light"
     },
     "output_type": "display_data"
    }
   ],
   "source": [
    "plot_learning_curve(val_train, val_test, n_train, \n",
    "                    xlabel='train_size', ylabel='accuracy')"
   ]
  },
  {
   "cell_type": "markdown",
   "metadata": {},
   "source": [
    "**Сделайте выводы о том, помогут ли алгоритму новые размеченные данные при той же постановке задачи.**"
   ]
  },
  {
   "cell_type": "markdown",
   "metadata": {},
   "source": [
    "*При такой постановке задачи - нет. Во-первых, accuracy в такой несбалансированной задаче - не очень информативная метрика. Как мы уже видели, константный алгоритм дает accuracy порядка 0.98. Сложно увидеть на графике, улучшается ли качество.*\n",
    "\n",
    "*Поскольку мы подозреваем, что плохой классификатор будет вести себя как константный, т.е. относить всех пользователей не к текущему классу, стоит посмотреть на метрику recall, которая покажет способность не относить пользователя 128 к классу 0:*"
   ]
  },
  {
   "cell_type": "code",
   "execution_count": 100,
   "metadata": {},
   "outputs": [
    {
     "data": {
      "image/png": "[encoded data removed]",
      "text/plain": [
       "<Figure size 432x288 with 1 Axes>"
      ]
     },
     "metadata": {
      "needs_background": "light"
     },
     "output_type": "display_data"
    }
   ],
   "source": [
    "n_train, val_train, val_test = learning_curve(estimator, X_sparse_150users, y_binary_128, train_sizes=train_sizes, cv=skf, \n",
    "                                              scoring='recall')\n",
    "plot_learning_curve(val_train, val_test, n_train, \n",
    "                    xlabel='train_size', ylabel='recall')"
   ]
  },
  {
   "cell_type": "markdown",
   "metadata": {},
   "source": [
    "*Precision, способность не относить других пользователей к классу 1, при этом растет:*"
   ]
  },
  {
   "cell_type": "code",
   "execution_count": 101,
   "metadata": {},
   "outputs": [
    {
     "data": {
      "image/png": "[encoded data removed]",
      "text/plain": [
       "<Figure size 432x288 with 1 Axes>"
      ]
     },
     "metadata": {
      "needs_background": "light"
     },
     "output_type": "display_data"
    }
   ],
   "source": [
    "n_train, val_train, val_test = learning_curve(estimator, X_sparse_150users, y_binary_128, train_sizes=train_sizes, cv=skf, \n",
    "                                              scoring='precision')\n",
    "plot_learning_curve(val_train, val_test, n_train, \n",
    "                    xlabel='train_size', ylabel='precision')"
   ]
  },
  {
   "cell_type": "markdown",
   "metadata": {},
   "source": [
    "*Иными словами, классификатор стремится к константному, определяя все больше сессий к классу 0 - и пользователя 128, и других пользователей. Вспоминая о том, что классификатор обучался в другой постановке задачи, с максимизацией accuracy по всем пользователям, вероятно, классификатор пытался сконцентрироваться на правильной классификации более явных примеров.*"
   ]
  },
  {
   "cell_type": "markdown",
   "metadata": {},
   "source": [
    "## Пути улучшения\n",
    "- конечно, можно проверить еще кучу алгоритмов, например, Xgboost, но в такой задаче очень маловероятно, что что-то справится лучше линейных методов\n",
    "- интересно проверить качество алгоритма на данных, где сессии выделялись не по количеству посещенных сайтов, а по времени, например, 5, 7, 10 и 15 минут. Отдельно стоит отметить данные нашего [соревнования](https://inclass.kaggle.com/c/catch-me-if-you-can-intruder-detection-through-webpage-session-tracking2) \n",
    "- опять же, если ресурсы позволяют, можно проверить, насколько хорошо можно решить задачу для 3000 пользователей\n",
    "\n",
    "\n",
    "На следующей неделе мы вспомним про линейные модели, обучаемые стохастическим градиентным спуском, и порадуемся тому, насколько быстрее они работают. Также сделаем первые (или не первые) посылки в [соревновании](https://inclass.kaggle.com/c/catch-me-if-you-can-intruder-detection-through-webpage-session-tracking2) Kaggle Inclass."
   ]
  }
 ],
 "metadata": {
  "anaconda-cloud": {},
  "kernelspec": {
   "display_name": "Python 2",
   "language": "python",
   "name": "python2"
  },
  "language_info": {
   "codemirror_mode": {
    "name": "ipython",
    "version": 2
   },
   "file_extension": ".py",
   "mimetype": "text/x-python",
   "name": "python",
   "nbconvert_exporter": "python",
   "pygments_lexer": "ipython2",
   "version": "2.7.16"
  }
 },
 "nbformat": 4,
 "nbformat_minor": 1
}
